{
 "cells": [
  {
   "cell_type": "code",
   "execution_count": 2,
   "metadata": {},
   "outputs": [],
   "source": [
    "import pandas as pd\n",
    "import itertools\n",
    "from pyvis.network import Network\n",
    "from igraph import Graph"
   ]
  },
  {
   "cell_type": "code",
   "execution_count": 13,
   "metadata": {},
   "outputs": [],
   "source": [
    "def generate_graph(nodes, prob):\n",
    "    g = Graph.Erdos_Renyi(n=nodes, p=prob)\n",
    "    nodes = list(range(nodes))\n",
    "    clique_nodes = set()\n",
    "\n",
    "    for perm in itertools.combinations(nodes, 4):\n",
    "        if g.are_adjacent(perm[0], perm[1]) and g.are_adjacent(perm[0], perm[2]) and g.are_adjacent(perm[0], perm[3]) and g.are_adjacent(perm[1], perm[2]) and g.are_adjacent(perm[1], perm[3]) and g.are_adjacent(perm[2], perm[3]):\n",
    "            clique_nodes.update(set(perm))\n",
    "\n",
    "    return g, clique_nodes"
   ]
  },
  {
   "cell_type": "code",
   "execution_count": 57,
   "metadata": {},
   "outputs": [],
   "source": [
    "def generate_clique_visualisation(nodes, prob):\n",
    "    g, clique_nodes = generate_graph(nodes, prob)\n",
    "    net = Network(notebook = True, cdn_resources = \"remote\",\n",
    "                    bgcolor = \"#222222\",\n",
    "                    font_color = \"white\",\n",
    "                    height = \"750px\",\n",
    "                    width = \"100%\",\n",
    "    )\n",
    "    print(\"Found\", len(clique_nodes), \"nodes in 4-cliques\")\n",
    "\n",
    "    edges = g.get_edgelist()\n",
    "    for node in range(nodes):\n",
    "        if node in clique_nodes:\n",
    "            net.add_node(node, color = \"red\", size = 1000/nodes, mass=1)\n",
    "        else:\n",
    "            net.add_node(node, color = \"white\", size = 500/nodes, mass=2)\n",
    "    for edge in edges:\n",
    "        color = \"red\" if edge[0] in clique_nodes and edge[1] in clique_nodes else \"white\"\n",
    "        width = 5 if edge[0] in clique_nodes and edge[1] in clique_nodes else 1\n",
    "        net.add_edge(edge[0], edge[1], color = color, width = width)\n",
    "    # net.toggle_physics(False)\n",
    "    net.repulsion(central_gravity=0.1)\n",
    "    net.show_buttons()\n",
    "    net.show(f\"4_clique_N{nodes}_P{prob:.3f}.html\")\n"
   ]
  },
  {
   "cell_type": "code",
   "execution_count": 58,
   "metadata": {},
   "outputs": [],
   "source": [
    "def p_over_clique_threshold(n,c = 1):\n",
    "    return c*n**(-1/2)\n",
    "def p_at_clique_threshold(n, c = 1):\n",
    "    return c*n**(-2/3)\n",
    "def p_below_clique_threshold(n, c = 1):\n",
    "    return c*n**(-1)"
   ]
  },
  {
   "cell_type": "code",
   "execution_count": 59,
   "metadata": {},
   "outputs": [
    {
     "name": "stdout",
     "output_type": "stream",
     "text": [
      "Found 0 nodes in 4-cliques\n",
      "4_clique_N10_P0.316.html\n",
      "Found 0 nodes in 4-cliques\n",
      "4_clique_N10_P0.323.html\n",
      "Found 0 nodes in 4-cliques\n",
      "4_clique_N10_P0.200.html\n",
      "---\n",
      "Found 0 nodes in 4-cliques\n",
      "4_clique_N20_P0.224.html\n",
      "Found 0 nodes in 4-cliques\n",
      "4_clique_N20_P0.204.html\n",
      "Found 0 nodes in 4-cliques\n",
      "4_clique_N20_P0.100.html\n",
      "---\n",
      "Found 5 nodes in 4-cliques\n",
      "4_clique_N50_P0.141.html\n",
      "Found 0 nodes in 4-cliques\n",
      "4_clique_N50_P0.111.html\n",
      "Found 0 nodes in 4-cliques\n",
      "4_clique_N50_P0.040.html\n",
      "---\n",
      "Found 14 nodes in 4-cliques\n",
      "4_clique_N100_P0.100.html\n",
      "Found 0 nodes in 4-cliques\n",
      "4_clique_N100_P0.070.html\n",
      "Found 0 nodes in 4-cliques\n",
      "4_clique_N100_P0.020.html\n",
      "---\n",
      "Found 33 nodes in 4-cliques\n",
      "4_clique_N150_P0.082.html\n",
      "Found 4 nodes in 4-cliques\n",
      "4_clique_N150_P0.053.html\n",
      "Found 0 nodes in 4-cliques\n",
      "4_clique_N150_P0.013.html\n",
      "---\n"
     ]
    }
   ],
   "source": [
    "nodes_to_test = [10, 20, 50, 100, 150]\n",
    "for nodes in nodes_to_test:\n",
    "    generate_clique_visualisation(nodes, p_over_clique_threshold(nodes, 1))\n",
    "    generate_clique_visualisation(nodes, p_at_clique_threshold(nodes, 1.5))\n",
    "    generate_clique_visualisation(nodes, p_below_clique_threshold(nodes, 2))\n",
    "    print(\"---\")"
   ]
  },
  {
   "cell_type": "markdown",
   "metadata": {},
   "source": [
    "### Largest connected component"
   ]
  },
  {
   "cell_type": "code",
   "execution_count": 66,
   "metadata": {},
   "outputs": [],
   "source": [
    "def generate_cc_graph(nodes, prob):\n",
    "    g = Graph.Erdos_Renyi(n=nodes, p=prob)\n",
    "    nodes = list(range(nodes))\n",
    "    largest_cc = set()\n",
    "\n",
    "    clusters = g.connected_components()\n",
    "    largest_cc = max(clusters, key=len)\n",
    "\n",
    "    return g, largest_cc"
   ]
  },
  {
   "cell_type": "code",
   "execution_count": 67,
   "metadata": {},
   "outputs": [],
   "source": [
    "def generate_cc_visualisation(nodes, prob):\n",
    "    g, largest_cc = generate_cc_graph(nodes, prob)\n",
    "    net = Network(notebook = True, cdn_resources = \"remote\",\n",
    "                    bgcolor = \"#222222\",\n",
    "                    font_color = \"white\",\n",
    "                    height = \"750px\",\n",
    "                    width = \"100%\",\n",
    "    )\n",
    "    print(\"Largest clique has size\", len(largest_cc))\n",
    "\n",
    "    edges = g.get_edgelist()\n",
    "    for node in range(nodes):\n",
    "        if node in largest_cc:\n",
    "            net.add_node(node, color = \"red\", size = 1000/nodes, mass=1)\n",
    "        else:\n",
    "            net.add_node(node, color = \"white\", size = 500/nodes, mass=2)\n",
    "    for edge in edges:\n",
    "        color = \"red\" if edge[0] in largest_cc and edge[1] in largest_cc else \"white\"\n",
    "        width = 5 if edge[0] in largest_cc and edge[1] in largest_cc else 1\n",
    "        net.add_edge(edge[0], edge[1], color = color, width = width)\n",
    "    # net.repulsion(central_gravity=0.1)\n",
    "    net.toggle_physics(False)\n",
    "    net.show_buttons()\n",
    "    net.show(f\"lcc_N{nodes}_P{prob:.4f}.html\")\n"
   ]
  },
  {
   "cell_type": "code",
   "execution_count": 70,
   "metadata": {},
   "outputs": [],
   "source": [
    "def p_at_lcc_threshold(n,c = 1):\n",
    "    return c*n**(-1)\n",
    "def p_over_lcc_threshold(n,c = 1):\n",
    "    return c*n**(-0.9)\n",
    "def p_below_lcc_threshold(n,c = 1):\n",
    "    return c*n**(-1.2)"
   ]
  },
  {
   "cell_type": "code",
   "execution_count": 74,
   "metadata": {},
   "outputs": [
    {
     "name": "stdout",
     "output_type": "stream",
     "text": [
      "Largest clique has size 18\n",
      "lcc_N20_P0.0675.html\n",
      "Largest clique has size 10\n",
      "lcc_N20_P0.0500.html\n",
      "---\n",
      "Largest clique has size 34\n",
      "lcc_N50_P0.0296.html\n",
      "Largest clique has size 6\n",
      "lcc_N50_P0.0200.html\n",
      "---\n",
      "Largest clique has size 60\n",
      "lcc_N100_P0.0158.html\n",
      "Largest clique has size 8\n",
      "lcc_N100_P0.0100.html\n",
      "---\n",
      "Largest clique has size 143\n",
      "lcc_N200_P0.0085.html\n",
      "Largest clique has size 34\n",
      "lcc_N200_P0.0050.html\n",
      "---\n",
      "Largest clique has size 365\n",
      "lcc_N500_P0.0037.html\n",
      "Largest clique has size 80\n",
      "lcc_N500_P0.0020.html\n",
      "---\n",
      "Largest clique has size 809\n",
      "lcc_N1000_P0.0020.html\n",
      "Largest clique has size 38\n",
      "lcc_N1000_P0.0010.html\n",
      "---\n",
      "Largest clique has size 1628\n",
      "lcc_N2000_P0.0011.html\n",
      "Largest clique has size 52\n",
      "lcc_N2000_P0.0005.html\n",
      "---\n",
      "Largest clique has size 4402\n",
      "lcc_N5000_P0.0005.html\n",
      "Largest clique has size 199\n",
      "lcc_N5000_P0.0002.html\n",
      "---\n",
      "Largest clique has size 8951\n",
      "lcc_N10000_P0.0003.html\n",
      "Largest clique has size 1402\n",
      "lcc_N10000_P0.0001.html\n",
      "---\n"
     ]
    }
   ],
   "source": [
    "nodes_to_test = [20, 50, 100, 200, 500, 1000, 2000, 5000, 10000]\n",
    "for nodes in nodes_to_test:\n",
    "    generate_cc_visualisation(nodes, p_over_lcc_threshold(nodes, 1))\n",
    "    generate_cc_visualisation(nodes, p_at_lcc_threshold(nodes, 1))\n",
    "    # generate_cc_visualisation(nodes, p_below_lcc_threshold(nodes, 1))\n",
    "    print(\"---\")"
   ]
  }
 ],
 "metadata": {
  "kernelspec": {
   "display_name": "Python 3",
   "language": "python",
   "name": "python3"
  },
  "language_info": {
   "codemirror_mode": {
    "name": "ipython",
    "version": 3
   },
   "file_extension": ".py",
   "mimetype": "text/x-python",
   "name": "python",
   "nbconvert_exporter": "python",
   "pygments_lexer": "ipython3",
   "version": "3.10.12"
  }
 },
 "nbformat": 4,
 "nbformat_minor": 2
}
